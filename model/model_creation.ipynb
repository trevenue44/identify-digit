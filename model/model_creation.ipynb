{
 "cells": [
  {
   "cell_type": "markdown",
   "metadata": {},
   "source": [
    "# Data Preparation"
   ]
  },
  {
   "cell_type": "markdown",
   "metadata": {},
   "source": [
    "## Loading the MNIST dataset"
   ]
  },
  {
   "cell_type": "code",
   "execution_count": 1,
   "metadata": {},
   "outputs": [],
   "source": [
    "from sklearn.datasets import fetch_openml\n",
    "mnist = fetch_openml(\"mnist_784\", version=1, as_frame=False)"
   ]
  },
  {
   "cell_type": "code",
   "execution_count": 2,
   "metadata": {},
   "outputs": [
    {
     "data": {
      "text/plain": [
       "dict_keys(['data', 'target', 'frame', 'categories', 'feature_names', 'target_names', 'DESCR', 'details', 'url'])"
      ]
     },
     "execution_count": 2,
     "metadata": {},
     "output_type": "execute_result"
    }
   ],
   "source": [
    "mnist.keys()"
   ]
  },
  {
   "cell_type": "code",
   "execution_count": 3,
   "metadata": {},
   "outputs": [],
   "source": [
    "import numpy as np\n",
    "\n",
    "X = mnist.data\n",
    "y = mnist.target.astype(np.uint8)"
   ]
  },
  {
   "cell_type": "code",
   "execution_count": 4,
   "metadata": {},
   "outputs": [
    {
     "data": {
      "text/plain": [
       "(70000, 784)"
      ]
     },
     "execution_count": 4,
     "metadata": {},
     "output_type": "execute_result"
    }
   ],
   "source": [
    "X.shape"
   ]
  },
  {
   "cell_type": "code",
   "execution_count": 5,
   "metadata": {},
   "outputs": [
    {
     "data": {
      "text/plain": [
       "(70000,)"
      ]
     },
     "execution_count": 5,
     "metadata": {},
     "output_type": "execute_result"
    }
   ],
   "source": [
    "y.shape"
   ]
  },
  {
   "cell_type": "code",
   "execution_count": 6,
   "metadata": {},
   "outputs": [],
   "source": [
    "# setting aside 10_000 examples for testing\n",
    "X_train, X_test, y_train, y_test = X[:60_000], X[60_000:], y[:60_000], y[60_000:]"
   ]
  },
  {
   "cell_type": "markdown",
   "metadata": {},
   "source": [
    "## Getting the Data ready to train the model using data augmentation"
   ]
  },
  {
   "cell_type": "code",
   "execution_count": 7,
   "metadata": {},
   "outputs": [],
   "source": [
    "import matplotlib.pyplot as plt\n",
    "\n",
    "def plot_digit(digit_aray):\n",
    "    # a function for plotting the digit given it's array\n",
    "    plt.imshow(digit_aray.reshape(28, 28), cmap=\"binary\")\n",
    "    plt.axis(\"off\")\n",
    "    plt.show()"
   ]
  },
  {
   "cell_type": "code",
   "execution_count": 8,
   "metadata": {},
   "outputs": [
    {
     "data": {
      "image/png": "[encoded data removed]",
      "text/plain": [
       "<Figure size 432x288 with 1 Axes>"
      ]
     },
     "metadata": {
      "needs_background": "light"
     },
     "output_type": "display_data"
    }
   ],
   "source": [
    "plot_digit(digit_aray=X_train[0])"
   ]
  },
  {
   "cell_type": "code",
   "execution_count": 9,
   "metadata": {},
   "outputs": [],
   "source": [
    "import numpy as np\n",
    "\n",
    "def switch_colors(digit_array):\n",
    "    # function for changing all white colors to black and black colors to white\n",
    "    return (np.full(len(digit_array), 255, dtype=int) - digit_array)\n"
   ]
  },
  {
   "cell_type": "code",
   "execution_count": 10,
   "metadata": {},
   "outputs": [
    {
     "data": {
      "image/png": "[encoded data removed]",
      "text/plain": [
       "<Figure size 432x288 with 1 Axes>"
      ]
     },
     "metadata": {
      "needs_background": "light"
     },
     "output_type": "display_data"
    }
   ],
   "source": [
    "plot_digit(switch_colors(X_train[0]))"
   ]
  },
  {
   "cell_type": "code",
   "execution_count": 11,
   "metadata": {},
   "outputs": [],
   "source": [
    "import numpy as np\n",
    "\n",
    "def add_noise(digit_array, noise_intensity=1):\n",
    "    # function for adding noise to the digits\n",
    "    if 0 < noise_intensity <= 16:\n",
    "        noise = noise_intensity * np.random.randint(-15, 15, len(digit_array))\n",
    "        return digit_array + noise\n",
    "    # in case the noise intensity is not ranging from 1 to 16.\n",
    "    else:\n",
    "        raise ValueError(\"noise_intensity has to range from 1 to 16.\")"
   ]
  },
  {
   "cell_type": "code",
   "execution_count": 12,
   "metadata": {},
   "outputs": [
    {
     "data": {
      "image/png": "[encoded data removed]",
      "text/plain": [
       "<Figure size 432x288 with 1 Axes>"
      ]
     },
     "metadata": {
      "needs_background": "light"
     },
     "output_type": "display_data"
    }
   ],
   "source": [
    "plot_digit(add_noise(X_train[0], noise_intensity=9))"
   ]
  },
  {
   "cell_type": "code",
   "execution_count": 13,
   "metadata": {},
   "outputs": [],
   "source": [
    "from scipy.ndimage.interpolation import shift\n",
    "\n",
    "def make_shift(digit_array, units_to_shift):\n",
    "    # the numbers won't always be exactly in the middle of the image. shifted imgs will account for that\n",
    "    digit_image = np.reshape(digit_array, (28, 28))\n",
    "    shifted_digit = shift(digit_image, units_to_shift)\n",
    "    return shifted_digit.reshape(784)"
   ]
  },
  {
   "cell_type": "markdown",
   "metadata": {},
   "source": [
    "## Creating Some Useful Functions"
   ]
  },
  {
   "cell_type": "code",
   "execution_count": 14,
   "metadata": {},
   "outputs": [],
   "source": [
    "import os\n",
    "import pickle\n",
    "\n",
    "def save_model(model):\n",
    "    directory_name = \"saved_models\"\n",
    "    # incase the directory doesn't exist\n",
    "    os.makedirs(directory_name, exist_ok=True)\n",
    "\n",
    "    # getting all the file names in the directory\n",
    "    all_model_names = [name for name in os.listdir(directory_name) if os.path.isfile(os.path.join(directory_name, name))]\n",
    "\n",
    "    current_model_name = \"01_current_model.pkl\"\n",
    "\n",
    "    # if there's a current model, we need to rename it.\n",
    "    if current_model_name in all_model_names:\n",
    "        model_number = len(all_model_names)\n",
    "        old_name = os.path.join(directory_name, current_model_name)\n",
    "        new_name = os.path.join(directory_name, f\"model_{model_number}.pkl\")\n",
    "        os.rename(old_name, new_name)\n",
    "        print(f\"Previous model renamed from {old_name} to {new_name}\")\n",
    "\n",
    "    \n",
    "    with open(os.path.join(directory_name, current_model_name), \"wb\") as f:\n",
    "        pickle.dump(model, f)\n",
    "    \n",
    "    print(f\"New model saved: {directory_name}\\{current_model_name}\")\n",
    "        \n"
   ]
  },
  {
   "cell_type": "code",
   "execution_count": 15,
   "metadata": {},
   "outputs": [],
   "source": [
    "import pickle\n",
    "import os\n",
    "\n",
    "# function for loading current saved model\n",
    "def load_current_model(model_name=\"01_current_model.pkl\"):\n",
    "    # some variables to use\n",
    "    directory_name = \"saved_models\"\n",
    "\n",
    "    # in case no model has been saved before\n",
    "    if os.path.isdir(directory_name):\n",
    "        try:\n",
    "            with open(os.path.join(directory_name, model_name), \"rb\") as f:\n",
    "                return pickle.load(f)\n",
    "        # in case it there's a problem when trying to laod the model from the file\n",
    "        except Exception as e:\n",
    "            print(e)\n",
    "            print(f\"Error while trying to load model '{os.path.join(directory_name, model_name)}'\")\n",
    "    # in case there is no saved model yet        \n",
    "    else:\n",
    "        raise FileNotFoundError(f\"No such directory '.\\\\{directory_name}\\\\'\")"
   ]
  },
  {
   "cell_type": "code",
   "execution_count": 16,
   "metadata": {},
   "outputs": [],
   "source": [
    "from sklearn.metrics import f1_score, recall_score, precision_score\n",
    "\n",
    "# function for evaluating the model\n",
    "def score_classifier(model, X, y):\n",
    "    y_predicted = model.predict(X)\n",
    "\n",
    "    f1 = f1_score(y, y_predicted)\n",
    "    recall = recall_score(y, y_predicted)\n",
    "    precision = precision_score(y, y_predicted)\n",
    "\n",
    "    print(model)\n",
    "    print(f\"Precision Score: {precision}\")\n",
    "    print(f\"Recall Score {recall}\")"
   ]
  },
  {
   "cell_type": "markdown",
   "metadata": {},
   "source": [
    "## Getting Some data together"
   ]
  },
  {
   "cell_type": "code",
   "execution_count": 17,
   "metadata": {},
   "outputs": [],
   "source": [
    "import numpy as np\n",
    "# combining some training elements to use to fit model\n",
    "\n",
    "X_train_noise = np.apply_along_axis(add_noise, 1, X_train, noise_intensity=9)\n",
    "# y_train_noise = y_train.copy()\n",
    "\n",
    "X_train_inverted = np.apply_along_axis(switch_colors, 1, X_train)\n",
    "# y_train_inverted = y_train.copy()\n",
    "\n",
    "X_train_noise_inverted = np. apply_along_axis(switch_colors, 1, X_train_noise)\n",
    "# y_train_noise_inverted = y_train_noise.cop()\n",
    "\n",
    "X_combined = np.concatenate(\n",
    "    (X_train, X_train_noise, X_train_inverted, X_train_noise_inverted), \n",
    "    axis=0\n",
    ")\n",
    "\n",
    "y_combined = np.concatenate(\n",
    "    (y_train, y_train, y_train, y_train), \n",
    ")"
   ]
  },
  {
   "cell_type": "code",
   "execution_count": 18,
   "metadata": {},
   "outputs": [],
   "source": [
    "from sklearn.utils import shuffle\n",
    "\n",
    "X_combined, y_combined = shuffle(X_combined, y_combined, random_state=44)"
   ]
  },
  {
   "cell_type": "code",
   "execution_count": 19,
   "metadata": {},
   "outputs": [],
   "source": [
    "from sklearn.model_selection import train_test_split\n",
    "\n",
    "X_train_final, X_val, y_train_final, y_val = train_test_split(X_combined, y_combined, test_size=0.1, random_state=44)"
   ]
  },
  {
   "cell_type": "markdown",
   "metadata": {},
   "source": [
    "## Training Model"
   ]
  },
  {
   "cell_type": "markdown",
   "metadata": {},
   "source": [
    "### Training KNClassifier with default parameters"
   ]
  },
  {
   "cell_type": "code",
   "execution_count": 20,
   "metadata": {},
   "outputs": [],
   "source": [
    "# from sklearn.neighbors import KNeighborsClassifier\n",
    "\n",
    "# kn_classifier = KNeighborsClassifier()"
   ]
  },
  {
   "cell_type": "code",
   "execution_count": 21,
   "metadata": {},
   "outputs": [],
   "source": [
    "# kn_classifier.fit(X_train_final, y_train_final)"
   ]
  },
  {
   "cell_type": "code",
   "execution_count": 22,
   "metadata": {},
   "outputs": [],
   "source": [
    "# kn_classifier.score(X_val, y_val)"
   ]
  },
  {
   "cell_type": "code",
   "execution_count": 23,
   "metadata": {},
   "outputs": [],
   "source": [
    "# saving the model\n",
    "# save_model(kn_classifier)"
   ]
  },
  {
   "cell_type": "markdown",
   "metadata": {},
   "source": [
    "### Training and SVC with default parameters on the final dataset and saving it"
   ]
  },
  {
   "cell_type": "code",
   "execution_count": 24,
   "metadata": {},
   "outputs": [],
   "source": [
    "# from sklearn.svm import SVC\n",
    "# from sklearn.preprocessing import StandardScaler\n",
    "# from sklearn.pipeline import Pipeline\n",
    "\n",
    "# # adding a scaler to scale down the input values before passing them to the SVC\n",
    "# sv_pipeline = Pipeline([\n",
    "#     (\"scaler\", StandardScaler()),\n",
    "#     (\"sv_classifier\", SVC()),\n",
    "# ])"
   ]
  },
  {
   "cell_type": "code",
   "execution_count": 25,
   "metadata": {},
   "outputs": [],
   "source": [
    "# training the model\n",
    "# sv_pipeline.fit(X_train_final, y_train_final)"
   ]
  },
  {
   "cell_type": "code",
   "execution_count": 26,
   "metadata": {},
   "outputs": [],
   "source": [
    "# saving the SVC\n",
    "# save_model(sv_pipeline)"
   ]
  },
  {
   "cell_type": "code",
   "execution_count": 27,
   "metadata": {},
   "outputs": [
    {
     "name": "stdout",
     "output_type": "stream",
     "text": [
      "Accuracy on training set:  0.9696018518518519\n",
      "Accuracy on Validatoin Set:  0.9649583333333334\n"
     ]
    }
   ],
   "source": [
    "# scoring the SVC on the validation set\n",
    "current_moel = load_current_model()\n",
    "\n",
    "print(\"Accuracy on training set: \", current_moel.score(X_train_final, y_train_final))\n",
    "print(\"Accuracy on Validatoin Set: \", current_moel.score(X_val, y_val))\n",
    "score_classifier(current_moel, X_val, y_val)"
   ]
  },
  {
   "cell_type": "code",
   "execution_count": null,
   "metadata": {},
   "outputs": [
    {
     "name": "stdout",
     "output_type": "stream",
     "text": [
      "Previous model renamed from saved_models\\01_current_model.pkl to saved_models\\model_3.pkl\n",
      "New model saved: saved_models\\01_current_model.pkl\n"
     ]
    }
   ],
   "source": []
  },
  {
   "cell_type": "code",
   "execution_count": null,
   "metadata": {},
   "outputs": [],
   "source": []
  }
 ],
 "metadata": {
  "interpreter": {
   "hash": "c7e26800b9b8beda3598f6fdf756736dd21d9643e71fc30addbb9bc1ae4e984d"
  },
  "kernelspec": {
   "display_name": "Python 3.8.8 64-bit ('ML': conda)",
   "language": "python",
   "name": "python3"
  },
  "language_info": {
   "codemirror_mode": {
    "name": "ipython",
    "version": 3
   },
   "file_extension": ".py",
   "mimetype": "text/x-python",
   "name": "python",
   "nbconvert_exporter": "python",
   "pygments_lexer": "ipython3",
   "version": "3.8.8"
  },
  "orig_nbformat": 4
 },
 "nbformat": 4,
 "nbformat_minor": 2
}
