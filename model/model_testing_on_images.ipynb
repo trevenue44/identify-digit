{
 "cells": [
  {
   "cell_type": "markdown",
   "metadata": {},
   "source": [
    "# Testing the Model on real images "
   ]
  },
  {
   "cell_type": "markdown",
   "metadata": {},
   "source": [
    "## Image Processing"
   ]
  },
  {
   "cell_type": "code",
   "execution_count": 1,
   "metadata": {},
   "outputs": [],
   "source": [
    "import os\n",
    "from PIL import Image\n",
    "\n",
    "def process_image(image_url):\n",
    "    # directory to store processed image in\n",
    "    processed_image_directory = \"processed_images\"\n",
    "    os.makedirs(processed_image_directory, exist_ok=True)\n",
    "    # how to name the current test image\n",
    "    image_name = \"current_test_image.jpg\"\n",
    "\n",
    "    try:\n",
    "        image = Image.open(image_url)\n",
    "    # incase the image url provided has a problem\n",
    "    except:\n",
    "        print(f\"Error while trying to load image '{image_url}'. Please check the image URL well.\")\n",
    "        return\n",
    "    \n",
    "    # resizing iamge and saving it\n",
    "    image = image.resize((28, 28))\n",
    "    image.save(os.path.join(processed_image_directory, image_name))\n",
    "    print(f\"Processed Image saved to '{os.path.join(processed_image_directory, image_name)}'\")"
   ]
  },
  {
   "cell_type": "code",
   "execution_count": 2,
   "metadata": {},
   "outputs": [],
   "source": [
    "import os\n",
    "import cv2\n",
    "import numpy as np\n",
    "\n",
    "def get_test_image_array(test_image_url=f\"{os.path.join('processed_images', 'current_test_image.jpg')}\"):\n",
    "    # loading the test image\n",
    "    try:\n",
    "        image = cv2.imread(test_image_url)\n",
    "    except:\n",
    "        print(f\"Error while trying to load test image '{test_image_url}'\")\n",
    "        return\n",
    "    # converting test image to black and white\n",
    "    image_gray = cv2.cvtColor(image, cv2.COLOR_BGR2GRAY)\n",
    "    # getting a numpy array from the test image\n",
    "    image_array = np.array(image_gray)\n",
    "    return image_array"
   ]
  },
  {
   "cell_type": "code",
   "execution_count": null,
   "metadata": {},
   "outputs": [],
   "source": []
  }
 ],
 "metadata": {
  "interpreter": {
   "hash": "c7e26800b9b8beda3598f6fdf756736dd21d9643e71fc30addbb9bc1ae4e984d"
  },
  "kernelspec": {
   "display_name": "Python 3.8.8 64-bit ('ML': conda)",
   "language": "python",
   "name": "python3"
  },
  "language_info": {
   "codemirror_mode": {
    "name": "ipython",
    "version": 3
   },
   "file_extension": ".py",
   "mimetype": "text/x-python",
   "name": "python",
   "nbconvert_exporter": "python",
   "pygments_lexer": "ipython3",
   "version": "3.8.8"
  },
  "orig_nbformat": 4
 },
 "nbformat": 4,
 "nbformat_minor": 2
}
