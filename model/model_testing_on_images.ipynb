{
 "cells": [
  {
   "cell_type": "markdown",
   "metadata": {},
   "source": [
    "# Testing the Model on real images "
   ]
  },
  {
   "cell_type": "markdown",
   "metadata": {},
   "source": [
    "## Image Processing"
   ]
  },
  {
   "cell_type": "code",
   "execution_count": 1,
   "metadata": {},
   "outputs": [],
   "source": [
    "import os\n",
    "from PIL import Image\n",
    "\n",
    "def process_image(image_url):\n",
    "    # directory to store processed image in\n",
    "    processed_image_directory = \"processed_images\"\n",
    "    os.makedirs(processed_image_directory, exist_ok=True)\n",
    "    # how to name the current test image\n",
    "    image_name = \"current_test_image.jpg\"\n",
    "\n",
    "    try:\n",
    "        image = Image.open(image_url).convert(\"RGB\")\n",
    "    # incase the image url provided has a problem\n",
    "    except:\n",
    "        raise FileNotFoundError(f\"Error while trying to load image '{image_url}'. Please check the image URL well.\")\n",
    "    \n",
    "    # resizing image and saving it\n",
    "    image = image.resize((28, 28))\n",
    "    image.save(os.path.join(processed_image_directory, image_name))\n",
    "    print(f\"Processed Image saved to '{os.path.join(processed_image_directory, image_name)}'\")"
   ]
  },
  {
   "cell_type": "code",
   "execution_count": 21,
   "metadata": {},
   "outputs": [],
   "source": [
    "import os\n",
    "import cv2\n",
    "import numpy as np\n",
    "\n",
    "def get_test_image_array(test_image_url=f\"{os.path.join('processed_images', 'current_test_image.jpg')}\"):\n",
    "    # loading the test image\n",
    "    try:\n",
    "        image = cv2.imread(test_image_url)\n",
    "    except:\n",
    "        raise FileNotFoundError(f\"Error while trying to load test image '{test_image_url}'\")\n",
    "    # converting test image to black and white\n",
    "    image_gray = cv2.cvtColor(image, cv2.COLOR_BGR2GRAY)\n",
    "    # getting a numpy array from the test image\n",
    "    image_array = np.array(image_gray)\n",
    "    return np.full(784, 255, dtype=int) - image_array.reshape(784)"
   ]
  },
  {
   "cell_type": "markdown",
   "metadata": {},
   "source": [
    "## Loading the Model"
   ]
  },
  {
   "cell_type": "code",
   "execution_count": 3,
   "metadata": {},
   "outputs": [],
   "source": [
    "import pickle\n",
    "import os\n",
    "\n",
    "# function for loading current saved model\n",
    "def load_current_model(model_name=\"01_current_model.pkl\"):\n",
    "    # some variables to use\n",
    "    directory_name = \"saved_models\"\n",
    "\n",
    "    # in case no model has been saved before\n",
    "    if os.path.isdir(directory_name):\n",
    "        try:\n",
    "            with open(os.path.join(directory_name, model_name), \"rb\") as f:\n",
    "                return pickle.load(f)\n",
    "        # in case it there's a problem when trying to laod the model from the file\n",
    "        except Exception as e:\n",
    "            print(e)\n",
    "            print(f\"Error while trying to load model '{os.path.join(directory_name, model_name)}'\")\n",
    "    # in case there is no saved model yet        \n",
    "    else:\n",
    "        raise FileNotFoundError(f\"No such directory '.\\\\{directory_name}\\\\'\")"
   ]
  },
  {
   "cell_type": "markdown",
   "metadata": {},
   "source": [
    "## Function for plotting digit"
   ]
  },
  {
   "cell_type": "code",
   "execution_count": 10,
   "metadata": {},
   "outputs": [],
   "source": [
    "import matplotlib.pyplot as plt\n",
    "\n",
    "def plot_digit(digit_aray):\n",
    "    # a function for plotting the digit given it's array\n",
    "    plt.imshow(digit_aray.reshape(28, 28), cmap=\"binary\")\n",
    "    plt.axis(\"off\")\n",
    "    plt.show()"
   ]
  },
  {
   "cell_type": "markdown",
   "metadata": {},
   "source": [
    "## Testing Model on All test Images"
   ]
  },
  {
   "cell_type": "code",
   "execution_count": 4,
   "metadata": {},
   "outputs": [],
   "source": [
    "import os\n",
    "\n",
    "def do_test(image_url, model):\n",
    "    # processing image and handling possible errors\n",
    "    try:\n",
    "        process_image(image_url)\n",
    "    except:\n",
    "        print(f\"ERROR: Cannot find file named '{image_url}'\")\n",
    "        return\n",
    "    \n",
    "    # getting the image array from processed image\n",
    "    image_array = get_test_image_array()\n",
    "\n",
    "    # making prediction with loaded model\n",
    "    prediction = model.predict([image_array])\n",
    "\n",
    "    digit = int(image_url[-5])\n",
    "\n",
    "    # giving value to mark depending on the accuracy\n",
    "    if digit == prediction[0]:\n",
    "        mark = \"✅\"\n",
    "    else:\n",
    "        mark = \"🔴\"\n",
    "\n",
    "    # displaying results to the user\n",
    "    print(f\"Expected Result: {digit} ----- Predicted: {prediction[0]} ----- {mark}\")\n"
   ]
  },
  {
   "cell_type": "code",
   "execution_count": 23,
   "metadata": {},
   "outputs": [
    {
     "name": "stdout",
     "output_type": "stream",
     "text": [
      "Pipeline(steps=[('scaler', StandardScaler()), ('sv_classifier', SVC())])\n",
      "Processed Image saved to 'processed_images\\current_test_image.jpg'\n",
      "Expected Result: 9 ----- Predicted: 1 ----- 🔴\n",
      "Processed Image saved to 'processed_images\\current_test_image.jpg'\n",
      "Expected Result: 8 ----- Predicted: 5 ----- 🔴\n",
      "Processed Image saved to 'processed_images\\current_test_image.jpg'\n",
      "Expected Result: 7 ----- Predicted: 1 ----- 🔴\n",
      "Processed Image saved to 'processed_images\\current_test_image.jpg'\n",
      "Expected Result: 6 ----- Predicted: 5 ----- 🔴\n",
      "Processed Image saved to 'processed_images\\current_test_image.jpg'\n",
      "Expected Result: 5 ----- Predicted: 5 ----- ✅\n",
      "Processed Image saved to 'processed_images\\current_test_image.jpg'\n",
      "Expected Result: 4 ----- Predicted: 5 ----- 🔴\n",
      "Processed Image saved to 'processed_images\\current_test_image.jpg'\n",
      "Expected Result: 3 ----- Predicted: 5 ----- 🔴\n",
      "Processed Image saved to 'processed_images\\current_test_image.jpg'\n",
      "Expected Result: 2 ----- Predicted: 1 ----- 🔴\n",
      "Processed Image saved to 'processed_images\\current_test_image.jpg'\n",
      "Expected Result: 1 ----- Predicted: 1 ----- ✅\n",
      "\n",
      "DONE!\n"
     ]
    }
   ],
   "source": [
    "import os\n",
    "\n",
    "# loading model\n",
    "model = load_current_model()\n",
    "\n",
    "# making the test for all images\n",
    "directory_name = \"test_images\"\n",
    "image_names = [name for name in os.listdir(directory_name) if os.path.isfile(os.path.join(directory_name, name))]\n",
    "\n",
    "print(model)\n",
    "for image_name in image_names[-1:-10:-1]:\n",
    "    do_test(os.path.join(directory_name, image_name), model)\n",
    "\n",
    "print(\"\\nDONE!\")"
   ]
  },
  {
   "cell_type": "code",
   "execution_count": 22,
   "metadata": {},
   "outputs": [
    {
     "name": "stdout",
     "output_type": "stream",
     "text": [
      "Processed Image saved to 'processed_images\\current_test_image.jpg'\n"
     ]
    },
    {
     "data": {
      "image/png": "[encoded data removed]",
      "text/plain": [
       "<Figure size 432x288 with 1 Axes>"
      ]
     },
     "metadata": {
      "needs_background": "light"
     },
     "output_type": "display_data"
    }
   ],
   "source": [
    "process_image(\"./test_images/p9.jpg\")\n",
    "plot_digit(get_test_image_array())"
   ]
  },
  {
   "cell_type": "code",
   "execution_count": null,
   "metadata": {},
   "outputs": [],
   "source": []
  }
 ],
 "metadata": {
  "interpreter": {
   "hash": "c7e26800b9b8beda3598f6fdf756736dd21d9643e71fc30addbb9bc1ae4e984d"
  },
  "kernelspec": {
   "display_name": "Python 3.8.8 64-bit ('ML': conda)",
   "language": "python",
   "name": "python3"
  },
  "language_info": {
   "codemirror_mode": {
    "name": "ipython",
    "version": 3
   },
   "file_extension": ".py",
   "mimetype": "text/x-python",
   "name": "python",
   "nbconvert_exporter": "python",
   "pygments_lexer": "ipython3",
   "version": "3.8.8"
  },
  "orig_nbformat": 4
 },
 "nbformat": 4,
 "nbformat_minor": 2
}
